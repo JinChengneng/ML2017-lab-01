{
 "cells": [
  {
   "cell_type": "markdown",
   "metadata": {},
   "source": [
    "# Lab1: Linear Regression and Gradient Descent"
   ]
  },
  {
   "cell_type": "markdown",
   "metadata": {},
   "source": [
    "## Step1: Import and devide dataset.\n",
    "- feature matrix needs to be transformed from sparse matrix to dense matrix using .todense() function.\n",
    "- targets need to be transformed to n*1 shape. "
   ]
  },
  {
   "cell_type": "code",
   "execution_count": 5,
   "metadata": {},
   "outputs": [],
   "source": [
    "from numpy import *\n",
    "from sklearn import preprocessing\n",
    "\n",
    "from sklearn.model_selection import train_test_split\n",
    "from sklearn.datasets import load_svmlight_file\n",
    "\n",
    "features, labels = load_svmlight_file(\"housing_scale\")\n",
    "\n",
    "train_features, test_features, train_targets, test_targets = train_test_split(features, labels, test_size=0.33)\n",
    "\n",
    "train_features = train_features.todense()\n",
    "test_features = test_features.todense()\n",
    "\n",
    "train_targets =  train_targets.reshape(train_targets.shape[0],1)\n",
    "test_targets =  test_targets.reshape(test_targets.shape[0],1)"
   ]
  },
  {
   "cell_type": "markdown",
   "metadata": {},
   "source": [
    "## Step2：Initialize linear model parameters.\n",
    "- theta is a n*1 matrix, otherwise there will be a number of errors during matrix operation.\n",
    "- alpha, representing learning rate, should be small enough."
   ]
  },
  {
   "cell_type": "code",
   "execution_count": 6,
   "metadata": {},
   "outputs": [],
   "source": [
    "import numpy as np\n",
    "\n",
    "m, n = np.shape(train_features)\n",
    "theta = np.ones((n, 1))\n",
    "alpha = 0.00005\n",
    "maxIteration = 1000\n"
   ]
  },
  {
   "cell_type": "markdown",
   "metadata": {},
   "source": [
    "## Step3: Choose loss function and calculate loss"
   ]
  },
  {
   "cell_type": "code",
   "execution_count": 7,
   "metadata": {},
   "outputs": [],
   "source": [
    "def cal_loss(x,y,theta):\n",
    "    return (1/2 *(np.linalg.norm(x*theta-y))**2)/ (x.shape[0])\n",
    "    \n",
    "train_loss = []\n",
    "evaluation_loss = []\n"
   ]
  },
  {
   "cell_type": "markdown",
   "metadata": {},
   "source": [
    "## Step4: Bath gradient descent function"
   ]
  },
  {
   "cell_type": "code",
   "execution_count": 8,
   "metadata": {},
   "outputs": [],
   "source": [
    "for i in range(0, maxIteration):\n",
    "    gradient =2* train_features.T * (train_features * theta - train_targets)\n",
    "#     print(gradient)\n",
    "    theta = theta - alpha * gradient\n",
    "#     print(theta)\n",
    "    train_loss.append(cal_loss(train_features,train_targets,theta))\n",
    "    evaluation_loss.append(cal_loss(test_features,test_targets,theta))\n",
    "    "
   ]
  },
  {
   "cell_type": "markdown",
   "metadata": {},
   "source": [
    "## Step5: Draw graph\n",
    "- The blue line represents the loss of train, and the orange line represents the loss of eva"
   ]
  },
  {
   "cell_type": "code",
   "execution_count": 12,
   "metadata": {},
   "outputs": [
    {
     "data": {
      "text/plain": [
       "<matplotlib.legend.Legend at 0x1ddefd1d7b8>"
      ]
     },
     "execution_count": 12,
     "metadata": {},
     "output_type": "execute_result"
    },
    {
     "data": {
      "image/png": "[encoded data removed]",
      "text/plain": [
       "<matplotlib.figure.Figure at 0x1ddefd022b0>"
      ]
     },
     "metadata": {},
     "output_type": "display_data"
    }
   ],
   "source": [
    "import matplotlib.pyplot as plt\n",
    "%matplotlib inline\n",
    "plt.xlabel(\"Iteration\")\n",
    "plt.ylabel(\"loss\")\n",
    "\n",
    "plt.plot(train_loss[5:], label=\"train_loss\")\n",
    "plt.plot(evaluation_loss[5:],label=\"evaluation_loss\" )\n",
    "plt.legend(loc='upper right')"
   ]
  }
 ],
 "metadata": {
  "kernelspec": {
   "display_name": "Python 3",
   "language": "python",
   "name": "python3"
  },
  "language_info": {
   "codemirror_mode": {
    "name": "ipython",
    "version": 3
   },
   "file_extension": ".py",
   "mimetype": "text/x-python",
   "name": "python",
   "nbconvert_exporter": "python",
   "pygments_lexer": "ipython3",
   "version": "3.5.2"
  }
 },
 "nbformat": 4,
 "nbformat_minor": 2
}
