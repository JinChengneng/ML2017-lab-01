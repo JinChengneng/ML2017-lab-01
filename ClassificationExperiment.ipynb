{
 "cells": [
  {
   "cell_type": "markdown",
   "metadata": {},
   "source": [
    "# Linear Classification and Gradient Descent"
   ]
  },
  {
   "cell_type": "markdown",
   "metadata": {},
   "source": [
    "## Step1: Import and devide dataset.\n",
    "- feature matrix needs to be transformed from sparse matrix to dense matrix using .todense() function.\n",
    "- targets need to be transformed to n*1 shape. "
   ]
  },
  {
   "cell_type": "code",
   "execution_count": 199,
   "metadata": {},
   "outputs": [],
   "source": [
    "from numpy import *\n",
    "from sklearn import preprocessing\n",
    "\n",
    "from sklearn.model_selection import train_test_split\n",
    "from sklearn.datasets import load_svmlight_file\n",
    "\n",
    "features, targets = load_svmlight_file(\"australian_scale\")\n",
    "\n",
    "train_features, test_features, train_targets, test_targets = train_test_split(features, targets, test_size=0.33)\n",
    "\n",
    "train_targets =  train_targets.reshape(train_targets.shape[0],1)\n",
    "test_targets =  test_targets.reshape(test_targets.shape[0],1)\n"
   ]
  },
  {
   "cell_type": "markdown",
   "metadata": {},
   "source": [
    "## Step2: Initialize linear model parameters"
   ]
  },
  {
   "cell_type": "code",
   "execution_count": 200,
   "metadata": {},
   "outputs": [],
   "source": [
    "import numpy as np\n",
    "\n",
    "theta = np.ones((n, 1))\n",
    "maxIteration = 100\n",
    "c = 0.5\n",
    "learning_rate = 0.001\n",
    "\n",
    "train_loss, evaluation_loss, train_accr, evaluation_accr = [],[],[],[]\n"
   ]
  },
  {
   "cell_type": "markdown",
   "metadata": {},
   "source": [
    "## Step3: Gradient function, loss funciton and accuracy function"
   ]
  },
  {
   "cell_type": "code",
   "execution_count": 201,
   "metadata": {},
   "outputs": [],
   "source": [
    "# x_todense_T数组存储了x[i].todense().T的值，减少了重复计算量，提高运算速度\n",
    "x_todense_T = []\n",
    "for i in range(train_features.shape[0]):\n",
    "    x_todense_T.append(train_features[i].todense().T)\n",
    "\n",
    "def cal_hinge_loss_and_grad(theta,x,y):\n",
    "    loss,grad = 0,0\n",
    "    for j in range(x.shape[0]):\n",
    "        v = y[j]*((theta.T).dot(x_todense_T[j])[0,0])\n",
    "        loss += max(0,1-v)\n",
    "        grad += 0 if v > 1 else -y[j]*x[j].todense()\n",
    "    return (loss/x.shape[0],grad)\n",
    "\n",
    "def cal_hinge_loss(theta,x,y):\n",
    "    loss = 0\n",
    "    for j in range(x.shape[0]):\n",
    "        v = y[j]*((theta.T).dot(x[j].todense().T)[0,0])\n",
    "        loss += max(0,1-v)\n",
    "    return loss/x.shape[0]\n",
    "\n",
    "def cal_accur(x,y,theta):\n",
    "    hypothesis = x * theta\n",
    "    hypothesis[hypothesis > 0] = 1\n",
    "    hypothesis[hypothesis <= 0] = -1\n",
    "    return np.count_nonzero(hypothesis == y)/ x.shape[0]"
   ]
  },
  {
   "cell_type": "markdown",
   "metadata": {},
   "source": [
    "## Step4: Gradient descent"
   ]
  },
  {
   "cell_type": "code",
   "execution_count": 202,
   "metadata": {},
   "outputs": [],
   "source": [
    "def gradientDescent(w):\n",
    "    for i in range(maxIteration):\n",
    "        current_train_loss, gradient = cal_hinge_loss_and_grad(w,train_features,train_targets)\n",
    "        train_loss.append(current_train_loss)\n",
    "        evaluation_loss.append( cal_hinge_loss(w,test_features,test_targets))\n",
    "        w = w-learning_rate*gradient.T\n",
    "        train_accr.append(cal_accur(train_features,train_targets,w))\n",
    "        evaluation_accr.append(cal_accur(test_features,test_targets,w))\n",
    "        \n",
    "gradientDescent(theta)"
   ]
  },
  {
   "cell_type": "markdown",
   "metadata": {},
   "source": [
    "## Step5: Draw graph"
   ]
  },
  {
   "cell_type": "code",
   "execution_count": 203,
   "metadata": {},
   "outputs": [
    {
     "data": {
      "text/plain": [
       "<matplotlib.legend.Legend at 0x26eb6d4ceb8>"
      ]
     },
     "execution_count": 203,
     "metadata": {},
     "output_type": "execute_result"
    },
    {
     "data": {
      "image/png": "[encoded data removed]",
      "text/plain": [
       "<matplotlib.figure.Figure at 0x26eb5986550>"
      ]
     },
     "metadata": {},
     "output_type": "display_data"
    }
   ],
   "source": [
    "import matplotlib.pyplot as plt\n",
    "%matplotlib inline\n",
    "plt.xlabel(\"Iteration\")\n",
    "plt.ylabel(\"loss\")\n",
    "plt.plot(train_loss, label=\"train_loss\")\n",
    "plt.plot(evaluation_loss,label=\"evaluation_loss\" )\n",
    "plt.legend(loc=\"upper right\")"
   ]
  },
  {
   "cell_type": "code",
   "execution_count": 204,
   "metadata": {},
   "outputs": [
    {
     "data": {
      "text/plain": [
       "<matplotlib.legend.Legend at 0x26eb6d91cf8>"
      ]
     },
     "execution_count": 204,
     "metadata": {},
     "output_type": "execute_result"
    },
    {
     "data": {
      "image/png": "[encoded data removed]",
      "text/plain": [
       "<matplotlib.figure.Figure at 0x26eb6ce1908>"
      ]
     },
     "metadata": {},
     "output_type": "display_data"
    }
   ],
   "source": [
    "plt.xlabel(\"Iteration\")\n",
    "plt.ylabel(\"Accuracy\")\n",
    "plt.plot(train_accr, label=\"train_accr\")\n",
    "plt.plot(evaluation_accr, label=\"evaluation_accr\")\n",
    "plt.legend(loc=\"lower right\")"
   ]
  }
 ],
 "metadata": {
  "kernelspec": {
   "display_name": "Python 3",
   "language": "python",
   "name": "python3"
  },
  "language_info": {
   "codemirror_mode": {
    "name": "ipython",
    "version": 3
   },
   "file_extension": ".py",
   "mimetype": "text/x-python",
   "name": "python",
   "nbconvert_exporter": "python",
   "pygments_lexer": "ipython3",
   "version": "3.5.2"
  }
 },
 "nbformat": 4,
 "nbformat_minor": 2
}
